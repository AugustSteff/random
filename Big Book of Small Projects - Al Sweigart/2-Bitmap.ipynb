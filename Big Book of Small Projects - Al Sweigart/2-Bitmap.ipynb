{
 "cells": [
  {
   "cell_type": "code",
   "execution_count": 1,
   "id": "cb48eda1",
   "metadata": {},
   "outputs": [],
   "source": [
    "import sys"
   ]
  },
  {
   "cell_type": "code",
   "execution_count": null,
   "id": "1f6fe480",
   "metadata": {},
   "outputs": [
    {
     "name": "stdout",
     "output_type": "stream",
     "text": [
      "Enter the message to display with the bitmap\n"
     ]
    }
   ],
   "source": [
    "bitmap= '''....................................................................\n",
    "    **************   *  *** **  *      ******************************\n",
    "   ********************* ** ** *  * ****************************** *\n",
    "  **      *****************       ******************************\n",
    "           *************          **  * **** ** ************** *\n",
    "            *********            *******   **************** * *\n",
    "             ********           ***************************  *\n",
    "    *        * **** ***         *************** ******  ** *\n",
    "                ****  *         ***************   *** ***  *\n",
    "                  ******         *************    **   **  *\n",
    "                  ********        *************    *  ** ***\n",
    "                    ********         ********          * *** ****\n",
    "                    *********         ******  *        **** ** * **\n",
    "                    *********         ****** * *           *** *   *\n",
    "                      ******          ***** **             *****   *\n",
    "                      *****            **** *            ********\n",
    "                     *****             ****              *********\n",
    "                     ****              **                 *******   *\n",
    "                     ***                                       *    *\n",
    "                     **     *                    *\n",
    "....................................................................'''\n",
    "\n",
    "print('Enter the message to display with the bitmap')\n",
    "\n",
    "message = input('> ')\n",
    "if message =='':\n",
    "    sys.exit()\n",
    "    \n",
    "for line in bitmap.splitlines():\n",
    "    for i, bit in enumerate(line):\n",
    "        if bit ==' ':\n",
    "            print(' ', end='')\n",
    "        else:\n",
    "            print(message[i % len(message)], end='')\n",
    "    print()"
   ]
  }
 ],
 "metadata": {
  "kernelspec": {
   "display_name": "Python 3 (ipykernel)",
   "language": "python",
   "name": "python3"
  },
  "language_info": {
   "codemirror_mode": {
    "name": "ipython",
    "version": 3
   },
   "file_extension": ".py",
   "mimetype": "text/x-python",
   "name": "python",
   "nbconvert_exporter": "python",
   "pygments_lexer": "ipython3",
   "version": "3.10.6"
  }
 },
 "nbformat": 4,
 "nbformat_minor": 5
}
